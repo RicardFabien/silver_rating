{
 "cells": [
  {
   "cell_type": "code",
   "execution_count": 91,
   "id": "b9af94d0",
   "metadata": {},
   "outputs": [],
   "source": [
    "#importing libraries\n",
    "import numpy as np \n",
    "import pandas as pan \n",
    "from sklearn.feature_extraction.text import CountVectorizer"
   ]
  },
  {
   "cell_type": "code",
   "execution_count": 5,
   "id": "94aa2af9",
   "metadata": {},
   "outputs": [],
   "source": [
    "rawData = pan.read_table(\"data/moviereviews.tsv\")"
   ]
  },
  {
   "cell_type": "code",
   "execution_count": 6,
   "id": "cee6d4a0",
   "metadata": {},
   "outputs": [
    {
     "data": {
      "text/html": [
       "<div>\n",
       "<style scoped>\n",
       "    .dataframe tbody tr th:only-of-type {\n",
       "        vertical-align: middle;\n",
       "    }\n",
       "\n",
       "    .dataframe tbody tr th {\n",
       "        vertical-align: top;\n",
       "    }\n",
       "\n",
       "    .dataframe thead th {\n",
       "        text-align: right;\n",
       "    }\n",
       "</style>\n",
       "<table border=\"1\" class=\"dataframe\">\n",
       "  <thead>\n",
       "    <tr style=\"text-align: right;\">\n",
       "      <th></th>\n",
       "      <th>label</th>\n",
       "      <th>review</th>\n",
       "    </tr>\n",
       "  </thead>\n",
       "  <tbody>\n",
       "    <tr>\n",
       "      <th>0</th>\n",
       "      <td>neg</td>\n",
       "      <td>how do films like mouse hunt get into theatres...</td>\n",
       "    </tr>\n",
       "    <tr>\n",
       "      <th>1</th>\n",
       "      <td>neg</td>\n",
       "      <td>some talented actresses are blessed with a dem...</td>\n",
       "    </tr>\n",
       "    <tr>\n",
       "      <th>2</th>\n",
       "      <td>pos</td>\n",
       "      <td>this has been an extraordinary year for austra...</td>\n",
       "    </tr>\n",
       "    <tr>\n",
       "      <th>3</th>\n",
       "      <td>pos</td>\n",
       "      <td>according to hollywood movies made in last few...</td>\n",
       "    </tr>\n",
       "    <tr>\n",
       "      <th>4</th>\n",
       "      <td>neg</td>\n",
       "      <td>my first press screening of 1998 and already i...</td>\n",
       "    </tr>\n",
       "  </tbody>\n",
       "</table>\n",
       "</div>"
      ],
      "text/plain": [
       "  label                                             review\n",
       "0   neg  how do films like mouse hunt get into theatres...\n",
       "1   neg  some talented actresses are blessed with a dem...\n",
       "2   pos  this has been an extraordinary year for austra...\n",
       "3   pos  according to hollywood movies made in last few...\n",
       "4   neg  my first press screening of 1998 and already i..."
      ]
     },
     "execution_count": 6,
     "metadata": {},
     "output_type": "execute_result"
    }
   ],
   "source": [
    "rawData.head()"
   ]
  },
  {
   "cell_type": "code",
   "execution_count": 7,
   "id": "7a604e91",
   "metadata": {},
   "outputs": [
    {
     "name": "stdout",
     "output_type": "stream",
     "text": [
      "<class 'pandas.core.frame.DataFrame'>\n",
      "RangeIndex: 2000 entries, 0 to 1999\n",
      "Data columns (total 2 columns):\n",
      " #   Column  Non-Null Count  Dtype \n",
      "---  ------  --------------  ----- \n",
      " 0   label   2000 non-null   object\n",
      " 1   review  1965 non-null   object\n",
      "dtypes: object(2)\n",
      "memory usage: 31.4+ KB\n"
     ]
    }
   ],
   "source": [
    "rawData.info()"
   ]
  },
  {
   "cell_type": "markdown",
   "id": "3b608763",
   "metadata": {},
   "source": [
    "**Checking what the data looks like at this point**"
   ]
  },
  {
   "cell_type": "code",
   "execution_count": 8,
   "id": "5ebc8fab",
   "metadata": {},
   "outputs": [
    {
     "data": {
      "text/plain": [
       "'how do films like mouse hunt get into theatres ? \\nisn\\'t there a law or something ? \\nthis diabolical load of claptrap from steven speilberg\\'s dreamworks studio is hollywood family fare at its deadly worst . \\nmouse hunt takes the bare threads of a plot and tries to prop it up with overacting and flat-out stupid slapstick that makes comedies like jingle all the way look decent by comparison . \\nwriter adam rifkin and director gore verbinski are the names chiefly responsible for this swill . \\nthe plot , for what its worth , concerns two brothers ( nathan lane and an appalling lee evens ) who inherit a poorly run string factory and a seemingly worthless house from their eccentric father . \\ndeciding to check out the long-abandoned house , they soon learn that it\\'s worth a fortune and set about selling it in auction to the highest bidder . \\nbut battling them at every turn is a very smart mouse , happy with his run-down little abode and wanting it to stay that way . \\nthe story alternates between unfunny scenes of the brothers bickering over what to do with their inheritance and endless action sequences as the two take on their increasingly determined furry foe . \\nwhatever promise the film starts with soon deteriorates into boring dialogue , terrible overacting , and increasingly uninspired slapstick that becomes all sound and fury , signifying nothing . \\nthe script becomes so unspeakably bad that the best line poor lee evens can utter after another run in with the rodent is : \" i hate that mouse \" . \\noh cringe ! \\nthis is home alone all over again , and ten times worse . \\none touching scene early on is worth mentioning . \\nwe follow the mouse through a maze of walls and pipes until he arrives at his makeshift abode somewhere in a wall . \\nhe jumps into a tiny bed , pulls up a makeshift sheet and snuggles up to sleep , seemingly happy and just wanting to be left alone . \\nit\\'s a magical little moment in an otherwise soulless film . \\na message to speilberg : if you want dreamworks to be associated with some kind of artistic credibility , then either give all concerned in mouse hunt a swift kick up the arse or hire yourself some decent writers and directors . \\nthis kind of rubbish will just not do at all . \\n'"
      ]
     },
     "execution_count": 8,
     "metadata": {},
     "output_type": "execute_result"
    }
   ],
   "source": [
    "rawData[\"review\"][0]"
   ]
  },
  {
   "cell_type": "markdown",
   "id": "34b8e7e2",
   "metadata": {},
   "source": [
    "**The control characters are actually part of the formatting, and thus can teach some things about the user of the review**\n",
    "<br/>\n",
    "**They will not be removed**<br/>\n",
    "**The value can be read in its human readable form if printed**\n"
   ]
  },
  {
   "cell_type": "code",
   "execution_count": 9,
   "id": "fe64e676",
   "metadata": {},
   "outputs": [
    {
     "name": "stdout",
     "output_type": "stream",
     "text": [
      "how do films like mouse hunt get into theatres ? \n",
      "isn't there a law or something ? \n",
      "this diabolical load of claptrap from steven speilberg's dreamworks studio is hollywood family fare at its deadly worst . \n",
      "mouse hunt takes the bare threads of a plot and tries to prop it up with overacting and flat-out stupid slapstick that makes comedies like jingle all the way look decent by comparison . \n",
      "writer adam rifkin and director gore verbinski are the names chiefly responsible for this swill . \n",
      "the plot , for what its worth , concerns two brothers ( nathan lane and an appalling lee evens ) who inherit a poorly run string factory and a seemingly worthless house from their eccentric father . \n",
      "deciding to check out the long-abandoned house , they soon learn that it's worth a fortune and set about selling it in auction to the highest bidder . \n",
      "but battling them at every turn is a very smart mouse , happy with his run-down little abode and wanting it to stay that way . \n",
      "the story alternates between unfunny scenes of the brothers bickering over what to do with their inheritance and endless action sequences as the two take on their increasingly determined furry foe . \n",
      "whatever promise the film starts with soon deteriorates into boring dialogue , terrible overacting , and increasingly uninspired slapstick that becomes all sound and fury , signifying nothing . \n",
      "the script becomes so unspeakably bad that the best line poor lee evens can utter after another run in with the rodent is : \" i hate that mouse \" . \n",
      "oh cringe ! \n",
      "this is home alone all over again , and ten times worse . \n",
      "one touching scene early on is worth mentioning . \n",
      "we follow the mouse through a maze of walls and pipes until he arrives at his makeshift abode somewhere in a wall . \n",
      "he jumps into a tiny bed , pulls up a makeshift sheet and snuggles up to sleep , seemingly happy and just wanting to be left alone . \n",
      "it's a magical little moment in an otherwise soulless film . \n",
      "a message to speilberg : if you want dreamworks to be associated with some kind of artistic credibility , then either give all concerned in mouse hunt a swift kick up the arse or hire yourself some decent writers and directors . \n",
      "this kind of rubbish will just not do at all . \n",
      "\n"
     ]
    }
   ],
   "source": [
    "print(rawData[\"review\"][0])"
   ]
  },
  {
   "cell_type": "code",
   "execution_count": 16,
   "id": "633f1655",
   "metadata": {},
   "outputs": [
    {
     "data": {
      "text/plain": [
       "'neg'"
      ]
     },
     "execution_count": 16,
     "metadata": {},
     "output_type": "execute_result"
    }
   ],
   "source": [
    "rawData[\"label\"][1]"
   ]
  },
  {
   "cell_type": "markdown",
   "id": "ca7f5d2f",
   "metadata": {},
   "source": [
    "**Adding a col that turns the label into an integer to be able to treat it**"
   ]
  },
  {
   "cell_type": "code",
   "execution_count": 29,
   "id": "57509641",
   "metadata": {},
   "outputs": [],
   "source": [
    "rawData[\"positive\"] = rawData.apply(lambda row: 1 if row.label ==\"pos\" else 0, axis=1)"
   ]
  },
  {
   "cell_type": "code",
   "execution_count": 34,
   "id": "2a700b0e",
   "metadata": {},
   "outputs": [
    {
     "data": {
      "text/html": [
       "<div>\n",
       "<style scoped>\n",
       "    .dataframe tbody tr th:only-of-type {\n",
       "        vertical-align: middle;\n",
       "    }\n",
       "\n",
       "    .dataframe tbody tr th {\n",
       "        vertical-align: top;\n",
       "    }\n",
       "\n",
       "    .dataframe thead th {\n",
       "        text-align: right;\n",
       "    }\n",
       "</style>\n",
       "<table border=\"1\" class=\"dataframe\">\n",
       "  <thead>\n",
       "    <tr style=\"text-align: right;\">\n",
       "      <th></th>\n",
       "      <th>label</th>\n",
       "      <th>review</th>\n",
       "      <th>positive</th>\n",
       "    </tr>\n",
       "  </thead>\n",
       "  <tbody>\n",
       "    <tr>\n",
       "      <th>0</th>\n",
       "      <td>neg</td>\n",
       "      <td>how do films like mouse hunt get into theatres...</td>\n",
       "      <td>0</td>\n",
       "    </tr>\n",
       "    <tr>\n",
       "      <th>1</th>\n",
       "      <td>neg</td>\n",
       "      <td>some talented actresses are blessed with a dem...</td>\n",
       "      <td>0</td>\n",
       "    </tr>\n",
       "    <tr>\n",
       "      <th>2</th>\n",
       "      <td>pos</td>\n",
       "      <td>this has been an extraordinary year for austra...</td>\n",
       "      <td>1</td>\n",
       "    </tr>\n",
       "    <tr>\n",
       "      <th>3</th>\n",
       "      <td>pos</td>\n",
       "      <td>according to hollywood movies made in last few...</td>\n",
       "      <td>1</td>\n",
       "    </tr>\n",
       "    <tr>\n",
       "      <th>4</th>\n",
       "      <td>neg</td>\n",
       "      <td>my first press screening of 1998 and already i...</td>\n",
       "      <td>0</td>\n",
       "    </tr>\n",
       "  </tbody>\n",
       "</table>\n",
       "</div>"
      ],
      "text/plain": [
       "  label                                             review  positive\n",
       "0   neg  how do films like mouse hunt get into theatres...         0\n",
       "1   neg  some talented actresses are blessed with a dem...         0\n",
       "2   pos  this has been an extraordinary year for austra...         1\n",
       "3   pos  according to hollywood movies made in last few...         1\n",
       "4   neg  my first press screening of 1998 and already i...         0"
      ]
     },
     "execution_count": 34,
     "metadata": {},
     "output_type": "execute_result"
    }
   ],
   "source": [
    "rawData.head()"
   ]
  },
  {
   "cell_type": "code",
   "execution_count": 58,
   "id": "3fd2ef06",
   "metadata": {},
   "outputs": [],
   "source": [
    "rawData = rawData[pan.notna(rawData['review'])]\n",
    "rawData = rawData[pan.notna(rawData['positive'])]"
   ]
  },
  {
   "cell_type": "markdown",
   "id": "65345ad9",
   "metadata": {},
   "source": [
    "**Training model**"
   ]
  },
  {
   "cell_type": "code",
   "execution_count": 59,
   "id": "d59d660f",
   "metadata": {},
   "outputs": [],
   "source": [
    "from sklearn.model_selection import train_test_split"
   ]
  },
  {
   "cell_type": "code",
   "execution_count": 85,
   "id": "a662b2cb",
   "metadata": {},
   "outputs": [],
   "source": [
    "train, test_ds = train_test_split(rawData, test_size=0.3, random_state=413)"
   ]
  },
  {
   "cell_type": "code",
   "execution_count": 61,
   "id": "2ec522b9",
   "metadata": {},
   "outputs": [],
   "source": [
    "from sklearn.pipeline import Pipeline\n",
    "from sklearn.feature_extraction.text import CountVectorizer, TfidfTransformer\n",
    "from sklearn.naive_bayes import MultinomialNB"
   ]
  },
  {
   "cell_type": "code",
   "execution_count": 82,
   "id": "6b8a6618",
   "metadata": {},
   "outputs": [
    {
     "data": {
      "text/html": [
       "<div>\n",
       "<style scoped>\n",
       "    .dataframe tbody tr th:only-of-type {\n",
       "        vertical-align: middle;\n",
       "    }\n",
       "\n",
       "    .dataframe tbody tr th {\n",
       "        vertical-align: top;\n",
       "    }\n",
       "\n",
       "    .dataframe thead th {\n",
       "        text-align: right;\n",
       "    }\n",
       "</style>\n",
       "<table border=\"1\" class=\"dataframe\">\n",
       "  <thead>\n",
       "    <tr style=\"text-align: right;\">\n",
       "      <th></th>\n",
       "      <th>label</th>\n",
       "      <th>review</th>\n",
       "      <th>positive</th>\n",
       "    </tr>\n",
       "  </thead>\n",
       "  <tbody>\n",
       "    <tr>\n",
       "      <th>1041</th>\n",
       "      <td>pos</td>\n",
       "      <td>sometimes you just have to tip your hat to a f...</td>\n",
       "      <td>1</td>\n",
       "    </tr>\n",
       "    <tr>\n",
       "      <th>682</th>\n",
       "      <td>pos</td>\n",
       "      <td>note : some may consider portions of the follo...</td>\n",
       "      <td>1</td>\n",
       "    </tr>\n",
       "    <tr>\n",
       "      <th>62</th>\n",
       "      <td>neg</td>\n",
       "      <td>senseless ( r ) marlon wayans is a very talent...</td>\n",
       "      <td>0</td>\n",
       "    </tr>\n",
       "    <tr>\n",
       "      <th>626</th>\n",
       "      <td>pos</td>\n",
       "      <td>waiting at the train station near the beginnin...</td>\n",
       "      <td>1</td>\n",
       "    </tr>\n",
       "    <tr>\n",
       "      <th>336</th>\n",
       "      <td>neg</td>\n",
       "      <td>perhaps if the impostors didn't have so much g...</td>\n",
       "      <td>0</td>\n",
       "    </tr>\n",
       "    <tr>\n",
       "      <th>...</th>\n",
       "      <td>...</td>\n",
       "      <td>...</td>\n",
       "      <td>...</td>\n",
       "    </tr>\n",
       "    <tr>\n",
       "      <th>1824</th>\n",
       "      <td>pos</td>\n",
       "      <td>an energetic , visually stunning , but intelle...</td>\n",
       "      <td>1</td>\n",
       "    </tr>\n",
       "    <tr>\n",
       "      <th>1112</th>\n",
       "      <td>pos</td>\n",
       "      <td>synopsis : in this cultural exploration , a ch...</td>\n",
       "      <td>1</td>\n",
       "    </tr>\n",
       "    <tr>\n",
       "      <th>1967</th>\n",
       "      <td>neg</td>\n",
       "      <td>whether you like the beatles or not , nobody w...</td>\n",
       "      <td>0</td>\n",
       "    </tr>\n",
       "    <tr>\n",
       "      <th>237</th>\n",
       "      <td>pos</td>\n",
       "      <td>the computer-animated comedy \" shrek \" is desi...</td>\n",
       "      <td>1</td>\n",
       "    </tr>\n",
       "    <tr>\n",
       "      <th>1077</th>\n",
       "      <td>neg</td>\n",
       "      <td>well , as i check my score card for what i've ...</td>\n",
       "      <td>0</td>\n",
       "    </tr>\n",
       "  </tbody>\n",
       "</table>\n",
       "<p>1375 rows × 3 columns</p>\n",
       "</div>"
      ],
      "text/plain": [
       "     label                                             review  positive\n",
       "1041   pos  sometimes you just have to tip your hat to a f...         1\n",
       "682    pos  note : some may consider portions of the follo...         1\n",
       "62     neg  senseless ( r ) marlon wayans is a very talent...         0\n",
       "626    pos  waiting at the train station near the beginnin...         1\n",
       "336    neg  perhaps if the impostors didn't have so much g...         0\n",
       "...    ...                                                ...       ...\n",
       "1824   pos  an energetic , visually stunning , but intelle...         1\n",
       "1112   pos  synopsis : in this cultural exploration , a ch...         1\n",
       "1967   neg  whether you like the beatles or not , nobody w...         0\n",
       "237    pos  the computer-animated comedy \" shrek \" is desi...         1\n",
       "1077   neg  well , as i check my score card for what i've ...         0\n",
       "\n",
       "[1375 rows x 3 columns]"
      ]
     },
     "execution_count": 82,
     "metadata": {},
     "output_type": "execute_result"
    }
   ],
   "source": [
    "train"
   ]
  },
  {
   "cell_type": "code",
   "execution_count": 63,
   "id": "f6a87417",
   "metadata": {},
   "outputs": [],
   "source": [
    "# Create a pipeline which transforms phrases into normalized feature vectors and uses a bayes estimator\n",
    "model_name = 'bayes classifier'\n",
    "\n",
    "pipeline_bayes = Pipeline([\n",
    "                ('count', CountVectorizer()),\n",
    "                ('tfidf', TfidfTransformer()),\n",
    "                ('gnb', MultinomialNB()),\n",
    "                ])\n",
    "\n",
    "# Train model using the created sklearn pipeline\n",
    "model_bayes = pipeline_bayes.fit(train['review'], train['positive'])"
   ]
  },
  {
   "cell_type": "markdown",
   "id": "369d6d65",
   "metadata": {},
   "source": [
    "**The model seems rather fited**"
   ]
  },
  {
   "cell_type": "code",
   "execution_count": 88,
   "id": "370daf6c",
   "metadata": {},
   "outputs": [
    {
     "data": {
      "text/plain": [
       "0.7576271186440678"
      ]
     },
     "execution_count": 88,
     "metadata": {},
     "output_type": "execute_result"
    }
   ],
   "source": [
    "model_bayes.score(test['review'], test['positive'])"
   ]
  },
  {
   "cell_type": "markdown",
   "id": "f77f4a4e",
   "metadata": {},
   "source": [
    "**Testing the model**"
   ]
  },
  {
   "cell_type": "code",
   "execution_count": 66,
   "id": "3d9ca94e",
   "metadata": {},
   "outputs": [
    {
     "name": "stdout",
     "output_type": "stream",
     "text": [
      "This is the worst movie I ever had the displeasurre to see-> Negative\n",
      "I FUCKING love this movie-> Positive\n",
      "That movie is kinda mid tbh-> Negative\n",
      "Completetly and utterly bad-> Negative\n"
     ]
    }
   ],
   "source": [
    "testphrases = ['This is the worst movie I ever had the displeasurre to see', 'I FUCKING love this movie', 'That movie is kinda mid tbh', 'Completetly and utterly bad']\n",
    "for testphrase in testphrases:\n",
    "    resultx = model_bayes.predict([testphrase]) # use model_bayes for predictions with the other model\n",
    "    dict = {0: 'Negative',  1: 'Positive'}\n",
    "    print(testphrase + '-> ' + dict[resultx[0]])"
   ]
  },
  {
   "cell_type": "markdown",
   "id": "3fed8c13",
   "metadata": {},
   "source": [
    "**Saving the model in a file**"
   ]
  },
  {
   "cell_type": "code",
   "execution_count": 69,
   "id": "41e66c7c",
   "metadata": {},
   "outputs": [
    {
     "data": {
      "text/plain": [
       "['filename.joblib']"
      ]
     },
     "execution_count": 69,
     "metadata": {},
     "output_type": "execute_result"
    }
   ],
   "source": [
    "from joblib import dump\n",
    "dump(model_bayes, 'filename.joblib') "
   ]
  },
  {
   "cell_type": "code",
   "execution_count": 71,
   "id": "455f2876",
   "metadata": {},
   "outputs": [
    {
     "name": "stdout",
     "output_type": "stream",
     "text": [
      "Collecting gradio\n",
      "  Using cached gradio-3.16.1-py3-none-any.whl (14.2 MB)\n"
     ]
    },
    {
     "name": "stderr",
     "output_type": "stream",
     "text": [
      "    WARNING: No metadata found in c:\\users\\pc\\appdata\\roaming\\python\\python39\\site-packages\n",
      "    WARNING: No metadata found in c:\\users\\pc\\appdata\\roaming\\python\\python39\\site-packages\n",
      "    WARNING: No metadata found in c:\\users\\pc\\appdata\\roaming\\python\\python39\\site-packages\n",
      "    WARNING: No metadata found in c:\\users\\pc\\appdata\\roaming\\python\\python39\\site-packages\n",
      "    WARNING: No metadata found in c:\\users\\pc\\appdata\\roaming\\python\\python39\\site-packages\n",
      "    WARNING: No metadata found in c:\\users\\pc\\appdata\\roaming\\python\\python39\\site-packages\n",
      "    WARNING: No metadata found in c:\\users\\pc\\appdata\\roaming\\python\\python39\\site-packages\n",
      "ERROR: Could not install packages due to an OSError: [WinError 32] Le processus ne peut pas accéder au fichier car ce fichier est utilisé par un autre processus: 'c:\\\\python39\\\\Lib\\\\site-packages\\\\altair\\\\vegalite\\\\v4\\\\tests\\\\test_api.py'\n",
      "Consider using the `--user` option or check the permissions.\n",
      "\n",
      "WARNING: You are using pip version 22.0.3; however, version 22.3.1 is available.\n",
      "You should consider upgrading via the 'c:\\python39\\python.exe -m pip install --upgrade pip' command.\n"
     ]
    },
    {
     "name": "stdout",
     "output_type": "stream",
     "text": [
      "Collecting websockets>=10.0\n",
      "  Downloading websockets-10.4-cp39-cp39-win_amd64.whl (101 kB)\n",
      "     -------------------------------------- 101.4/101.4 KB 1.2 MB/s eta 0:00:00\n",
      "Requirement already satisfied: typing-extensions in c:\\python39\\lib\\site-packages (from gradio) (4.4.0)\n",
      "Collecting httpx\n",
      "  Using cached httpx-0.23.3-py3-none-any.whl (71 kB)\n",
      "Requirement already satisfied: pandas in c:\\python39\\lib\\site-packages (from gradio) (1.3.3)\n",
      "Requirement already satisfied: markupsafe in c:\\users\\pc\\appdata\\roaming\\python\\python39\\site-packages (from gradio) (2.0.1)\n",
      "Collecting orjson\n",
      "  Using cached orjson-3.8.5-cp39-none-win_amd64.whl (202 kB)\n",
      "Requirement already satisfied: pillow in c:\\python39\\lib\\site-packages (from gradio) (9.3.0)\n",
      "Collecting uvicorn\n",
      "  Using cached uvicorn-0.20.0-py3-none-any.whl (56 kB)\n",
      "Requirement already satisfied: matplotlib in c:\\python39\\lib\\site-packages (from gradio) (3.4.3)\n",
      "Requirement already satisfied: pyyaml in c:\\python39\\lib\\site-packages (from gradio) (6.0)\n",
      "Collecting aiohttp\n",
      "  Downloading aiohttp-3.8.3-cp39-cp39-win_amd64.whl (323 kB)\n",
      "     -------------------------------------- 323.5/323.5 KB 1.7 MB/s eta 0:00:00\n",
      "Collecting pydub\n",
      "  Using cached pydub-0.25.1-py2.py3-none-any.whl (32 kB)\n",
      "Requirement already satisfied: numpy in c:\\python39\\lib\\site-packages (from gradio) (1.21.2)\n",
      "Requirement already satisfied: pydantic in c:\\python39\\lib\\site-packages (from gradio) (1.10.2)\n",
      "Requirement already satisfied: requests in c:\\python39\\lib\\site-packages (from gradio) (2.28.1)\n",
      "Collecting markdown-it-py[linkify,plugins]\n",
      "  Using cached markdown_it_py-2.1.0-py3-none-any.whl (84 kB)\n",
      "Collecting fastapi\n",
      "  Using cached fastapi-0.89.1-py3-none-any.whl (55 kB)\n",
      "Collecting pycryptodome\n",
      "  Using cached pycryptodome-3.16.0-cp35-abi3-win_amd64.whl (1.7 MB)\n",
      "Collecting altair>=4.2.0\n",
      "  Using cached altair-4.2.0-py3-none-any.whl (812 kB)\n",
      "Collecting ffmpy\n",
      "  Using cached ffmpy-0.3.0.tar.gz (4.8 kB)\n",
      "  Preparing metadata (setup.py): started\n",
      "  Preparing metadata (setup.py): finished with status 'done'\n",
      "Collecting fsspec\n",
      "  Using cached fsspec-2022.11.0-py3-none-any.whl (139 kB)\n",
      "Requirement already satisfied: jinja2 in c:\\users\\pc\\appdata\\roaming\\python\\python39\\site-packages (from gradio) (3.0.1)\n",
      "Collecting python-multipart\n",
      "  Using cached python-multipart-0.0.5.tar.gz (32 kB)\n",
      "  Preparing metadata (setup.py): started\n",
      "  Preparing metadata (setup.py): finished with status 'done'\n",
      "Collecting toolz\n",
      "  Using cached toolz-0.12.0-py3-none-any.whl (55 kB)\n",
      "Requirement already satisfied: jsonschema>=3.0 in c:\\users\\pc\\appdata\\roaming\\python\\python39\\site-packages (from altair>=4.2.0->gradio) (3.2.0)\n",
      "Requirement already satisfied: entrypoints in c:\\users\\pc\\appdata\\roaming\\python\\python39\\site-packages (from altair>=4.2.0->gradio) (0.3)\n",
      "Requirement already satisfied: python-dateutil>=2.7.3 in c:\\users\\pc\\appdata\\roaming\\python\\python39\\site-packages (from pandas->gradio) (2.8.1)\n",
      "Requirement already satisfied: pytz>=2017.3 in c:\\users\\pc\\appdata\\roaming\\python\\python39\\site-packages (from pandas->gradio) (2021.1)\n",
      "Collecting yarl<2.0,>=1.0\n",
      "  Using cached yarl-1.8.2-cp39-cp39-win_amd64.whl (56 kB)\n",
      "Collecting async-timeout<5.0,>=4.0.0a3\n",
      "  Using cached async_timeout-4.0.2-py3-none-any.whl (5.8 kB)\n",
      "Requirement already satisfied: charset-normalizer<3.0,>=2.0 in c:\\python39\\lib\\site-packages (from aiohttp->gradio) (2.1.1)\n",
      "Collecting frozenlist>=1.1.1\n",
      "  Using cached frozenlist-1.3.3-cp39-cp39-win_amd64.whl (34 kB)\n",
      "Requirement already satisfied: attrs>=17.3.0 in c:\\users\\pc\\appdata\\roaming\\python\\python39\\site-packages (from aiohttp->gradio) (21.2.0)\n",
      "Collecting aiosignal>=1.1.2\n",
      "  Using cached aiosignal-1.3.1-py3-none-any.whl (7.6 kB)\n",
      "Collecting multidict<7.0,>=4.5\n",
      "  Using cached multidict-6.0.4-cp39-cp39-win_amd64.whl (28 kB)\n",
      "Collecting starlette==0.22.0\n",
      "  Using cached starlette-0.22.0-py3-none-any.whl (64 kB)\n",
      "Collecting anyio<5,>=3.4.0\n",
      "  Using cached anyio-3.6.2-py3-none-any.whl (80 kB)\n",
      "Collecting rfc3986[idna2008]<2,>=1.3\n",
      "  Using cached rfc3986-1.5.0-py2.py3-none-any.whl (31 kB)\n",
      "Requirement already satisfied: sniffio in c:\\users\\pc\\appdata\\roaming\\python\\python39\\site-packages (from httpx->gradio) (1.2.0)\n",
      "Requirement already satisfied: certifi in c:\\python39\\lib\\site-packages (from httpx->gradio) (2022.9.24)\n",
      "Collecting httpcore<0.17.0,>=0.15.0\n",
      "  Using cached httpcore-0.16.3-py3-none-any.whl (69 kB)\n",
      "Collecting mdurl~=0.1\n",
      "  Using cached mdurl-0.1.2-py3-none-any.whl (10.0 kB)\n",
      "Collecting mdit-py-plugins\n",
      "  Using cached mdit_py_plugins-0.3.3-py3-none-any.whl (50 kB)\n",
      "Collecting linkify-it-py~=1.0\n",
      "  Using cached linkify_it_py-1.0.3-py3-none-any.whl (19 kB)\n",
      "Requirement already satisfied: kiwisolver>=1.0.1 in c:\\python39\\lib\\site-packages (from matplotlib->gradio) (1.3.2)\n",
      "Requirement already satisfied: pyparsing>=2.2.1 in c:\\users\\pc\\appdata\\roaming\\python\\python39\\site-packages (from matplotlib->gradio) (2.4.7)\n",
      "Requirement already satisfied: cycler>=0.10 in c:\\python39\\lib\\site-packages (from matplotlib->gradio) (0.10.0)\n",
      "Requirement already satisfied: six>=1.4.0 in c:\\python39\\lib\\site-packages (from python-multipart->gradio) (1.16.0)\n",
      "Requirement already satisfied: urllib3<1.27,>=1.21.1 in c:\\users\\pc\\appdata\\roaming\\python\\python39\\site-packages (from requests->gradio) (1.26.5)\n",
      "Requirement already satisfied: idna<4,>=2.5 in c:\\users\\pc\\appdata\\roaming\\python\\python39\\site-packages (from requests->gradio) (2.10)\n",
      "Requirement already satisfied: h11>=0.8 in c:\\python39\\lib\\site-packages (from uvicorn->gradio) (0.14.0)\n",
      "Requirement already satisfied: click>=7.0 in c:\\python39\\lib\\site-packages (from uvicorn->gradio) (8.1.3)\n",
      "Requirement already satisfied: colorama in c:\\users\\pc\\appdata\\roaming\\python\\python39\\site-packages (from click>=7.0->uvicorn->gradio) (0.4.4)\n",
      "Requirement already satisfied: setuptools in c:\\python39\\lib\\site-packages (from jsonschema>=3.0->altair>=4.2.0->gradio) (57.0.0)\n",
      "Requirement already satisfied: pyrsistent>=0.14.0 in c:\\users\\pc\\appdata\\roaming\\python\\python39\\site-packages (from jsonschema>=3.0->altair>=4.2.0->gradio) (0.17.3)\n",
      "Collecting uc-micro-py\n",
      "  Using cached uc_micro_py-1.0.1-py3-none-any.whl (6.2 kB)\n",
      "Building wheels for collected packages: ffmpy, python-multipart\n",
      "  Building wheel for ffmpy (setup.py): started\n",
      "  Building wheel for ffmpy (setup.py): finished with status 'done'\n",
      "  Created wheel for ffmpy: filename=ffmpy-0.3.0-py3-none-any.whl size=4709 sha256=baff57879aad0a6ea57a88f44f3360ddeaf6ab3b846bc9aadc53035a5d235ad9\n",
      "  Stored in directory: c:\\users\\pc\\appdata\\local\\pip\\cache\\wheels\\91\\e2\\96\\f676aa08bfd789328c6576cd0f1fde4a3d686703bb0c247697\n",
      "  Building wheel for python-multipart (setup.py): started\n",
      "  Building wheel for python-multipart (setup.py): finished with status 'done'\n",
      "  Created wheel for python-multipart: filename=python_multipart-0.0.5-py3-none-any.whl size=31679 sha256=f854ee968463aaa45db68858696f22bbeded307bcba8f5428b996c50a3de7286\n",
      "  Stored in directory: c:\\users\\pc\\appdata\\local\\pip\\cache\\wheels\\fe\\04\\d1\\a10661cc45f03c3cecda50deb2d2c22f57b4e84a75b2a5987e\n",
      "Successfully built ffmpy python-multipart\n",
      "Installing collected packages: rfc3986, pydub, ffmpy, websockets, uc-micro-py, toolz, python-multipart, pycryptodome, orjson, multidict, mdurl, fsspec, frozenlist, async-timeout, anyio, yarl, uvicorn, starlette, markdown-it-py, linkify-it-py, httpcore, aiosignal, mdit-py-plugins, httpx, fastapi, altair, aiohttp, gradio\n",
      "  Attempting uninstall: anyio\n",
      "    Found existing installation: anyio 3.1.0\n",
      "    Can't uninstall 'anyio'. No files were found to uninstall.\n"
     ]
    },
    {
     "name": "stderr",
     "output_type": "stream",
     "text": [
      "WARNING: You are using pip version 22.0.3; however, version 22.3.1 is available.\n",
      "You should consider upgrading via the 'c:\\python39\\python.exe -m pip install --upgrade pip' command.\n"
     ]
    },
    {
     "name": "stdout",
     "output_type": "stream",
     "text": [
      "Collecting gradio\n",
      "  Downloading gradio-3.16.1-py3-none-any.whl (14.2 MB)\n",
      "     ---------------------------------------- 14.2/14.2 MB 1.8 MB/s eta 0:00:00\n",
      "Requirement already satisfied: matplotlib in c:\\python39\\lib\\site-packages (from gradio) (3.4.3)\n",
      "Collecting markdown-it-py[linkify,plugins]\n",
      "  Downloading markdown_it_py-2.1.0-py3-none-any.whl (84 kB)\n",
      "     ---------------------------------------- 84.5/84.5 KB 2.4 MB/s eta 0:00:00\n",
      "Collecting altair>=4.2.0\n",
      "  Downloading altair-4.2.0-py3-none-any.whl (812 kB)\n",
      "     -------------------------------------- 812.8/812.8 KB 1.9 MB/s eta 0:00:00\n",
      "Requirement already satisfied: typing-extensions in c:\\python39\\lib\\site-packages (from gradio) (4.4.0)\n",
      "Collecting ffmpy\n",
      "  Downloading ffmpy-0.3.0.tar.gz (4.8 kB)\n",
      "  Preparing metadata (setup.py): started\n",
      "  Preparing metadata (setup.py): finished with status 'done'\n",
      "Collecting fastapi\n",
      "  Downloading fastapi-0.89.1-py3-none-any.whl (55 kB)\n",
      "     ---------------------------------------- 55.8/55.8 KB 3.0 MB/s eta 0:00:00\n",
      "Collecting httpx\n",
      "  Downloading httpx-0.23.3-py3-none-any.whl (71 kB)\n",
      "     ---------------------------------------- 71.5/71.5 KB 1.3 MB/s eta 0:00:00\n",
      "Collecting uvicorn\n",
      "  Downloading uvicorn-0.20.0-py3-none-any.whl (56 kB)\n",
      "     ---------------------------------------- 56.9/56.9 KB 2.9 MB/s eta 0:00:00\n",
      "Requirement already satisfied: pillow in c:\\python39\\lib\\site-packages (from gradio) (9.3.0)\n",
      "Collecting pydub\n",
      "  Downloading pydub-0.25.1-py2.py3-none-any.whl (32 kB)\n",
      "Requirement already satisfied: pydantic in c:\\python39\\lib\\site-packages (from gradio) (1.10.2)\n",
      "Requirement already satisfied: numpy in c:\\python39\\lib\\site-packages (from gradio) (1.21.2)\n",
      "Collecting pycryptodome\n",
      "  Downloading pycryptodome-3.16.0-cp35-abi3-win_amd64.whl (1.7 MB)\n",
      "     ---------------------------------------- 1.7/1.7 MB 1.6 MB/s eta 0:00:00\n",
      "Collecting orjson\n",
      "  Downloading orjson-3.8.5-cp39-none-win_amd64.whl (202 kB)\n",
      "     -------------------------------------- 202.7/202.7 KB 1.4 MB/s eta 0:00:00\n",
      "Collecting python-multipart\n",
      "  Downloading python-multipart-0.0.5.tar.gz (32 kB)\n",
      "  Preparing metadata (setup.py): started\n",
      "  Preparing metadata (setup.py): finished with status 'done'\n",
      "Requirement already satisfied: markupsafe in c:\\users\\pc\\appdata\\roaming\\python\\python39\\site-packages (from gradio) (2.0.1)\n",
      "Requirement already satisfied: requests in c:\\python39\\lib\\site-packages (from gradio) (2.28.1)\n",
      "Collecting websockets>=10.0\n",
      "  Using cached websockets-10.4-cp39-cp39-win_amd64.whl (101 kB)\n",
      "Requirement already satisfied: pandas in c:\\python39\\lib\\site-packages (from gradio) (1.3.3)\n",
      "Collecting aiohttp\n",
      "  Using cached aiohttp-3.8.3-cp39-cp39-win_amd64.whl (323 kB)\n",
      "Requirement already satisfied: jinja2 in c:\\users\\pc\\appdata\\roaming\\python\\python39\\site-packages (from gradio) (3.0.1)\n",
      "Requirement already satisfied: pyyaml in c:\\python39\\lib\\site-packages (from gradio) (6.0)\n",
      "Collecting fsspec\n",
      "  Downloading fsspec-2022.11.0-py3-none-any.whl (139 kB)\n",
      "     ------------------------------------ 139.5/139.5 KB 485.8 kB/s eta 0:00:00\n",
      "Collecting toolz\n",
      "  Downloading toolz-0.12.0-py3-none-any.whl (55 kB)\n",
      "     -------------------------------------- 55.8/55.8 KB 970.1 kB/s eta 0:00:00\n",
      "Requirement already satisfied: jsonschema>=3.0 in c:\\users\\pc\\appdata\\roaming\\python\\python39\\site-packages (from altair>=4.2.0->gradio) (3.2.0)\n",
      "Requirement already satisfied: entrypoints in c:\\users\\pc\\appdata\\roaming\\python\\python39\\site-packages (from altair>=4.2.0->gradio) (0.3)\n",
      "Requirement already satisfied: pytz>=2017.3 in c:\\users\\pc\\appdata\\roaming\\python\\python39\\site-packages (from pandas->gradio) (2021.1)\n",
      "Requirement already satisfied: python-dateutil>=2.7.3 in c:\\users\\pc\\appdata\\roaming\\python\\python39\\site-packages (from pandas->gradio) (2.8.1)\n",
      "Requirement already satisfied: charset-normalizer<3.0,>=2.0 in c:\\python39\\lib\\site-packages (from aiohttp->gradio) (2.1.1)\n",
      "Collecting aiosignal>=1.1.2\n",
      "  Downloading aiosignal-1.3.1-py3-none-any.whl (7.6 kB)\n",
      "Collecting async-timeout<5.0,>=4.0.0a3\n",
      "  Downloading async_timeout-4.0.2-py3-none-any.whl (5.8 kB)\n",
      "Collecting multidict<7.0,>=4.5\n",
      "  Downloading multidict-6.0.4-cp39-cp39-win_amd64.whl (28 kB)\n",
      "Requirement already satisfied: attrs>=17.3.0 in c:\\users\\pc\\appdata\\roaming\\python\\python39\\site-packages (from aiohttp->gradio) (21.2.0)\n",
      "Collecting frozenlist>=1.1.1\n",
      "  Downloading frozenlist-1.3.3-cp39-cp39-win_amd64.whl (34 kB)\n",
      "Collecting yarl<2.0,>=1.0\n",
      "  Downloading yarl-1.8.2-cp39-cp39-win_amd64.whl (56 kB)\n",
      "     ---------------------------------------- 56.8/56.8 KB 1.5 MB/s eta 0:00:00\n",
      "Collecting starlette==0.22.0\n",
      "  Downloading starlette-0.22.0-py3-none-any.whl (64 kB)\n",
      "     ---------------------------------------- 64.3/64.3 KB 1.2 MB/s eta 0:00:00\n",
      "Collecting anyio<5,>=3.4.0\n",
      "  Downloading anyio-3.6.2-py3-none-any.whl (80 kB)\n",
      "     ---------------------------------------- 80.6/80.6 KB 1.1 MB/s eta 0:00:00\n",
      "Requirement already satisfied: sniffio in c:\\users\\pc\\appdata\\roaming\\python\\python39\\site-packages (from httpx->gradio) (1.2.0)\n",
      "Collecting httpcore<0.17.0,>=0.15.0\n",
      "  Downloading httpcore-0.16.3-py3-none-any.whl (69 kB)\n",
      "     ---------------------------------------- 69.6/69.6 KB 1.3 MB/s eta 0:00:00\n",
      "Collecting rfc3986[idna2008]<2,>=1.3\n",
      "  Downloading rfc3986-1.5.0-py2.py3-none-any.whl (31 kB)\n",
      "Requirement already satisfied: certifi in c:\\python39\\lib\\site-packages (from httpx->gradio) (2022.9.24)\n",
      "Collecting mdurl~=0.1\n",
      "  Downloading mdurl-0.1.2-py3-none-any.whl (10.0 kB)\n",
      "Collecting linkify-it-py~=1.0\n",
      "  Downloading linkify_it_py-1.0.3-py3-none-any.whl (19 kB)\n",
      "Collecting mdit-py-plugins\n",
      "  Downloading mdit_py_plugins-0.3.3-py3-none-any.whl (50 kB)\n",
      "     ---------------------------------------- 50.5/50.5 KB 1.3 MB/s eta 0:00:00\n",
      "Requirement already satisfied: kiwisolver>=1.0.1 in c:\\python39\\lib\\site-packages (from matplotlib->gradio) (1.3.2)\n",
      "Requirement already satisfied: cycler>=0.10 in c:\\python39\\lib\\site-packages (from matplotlib->gradio) (0.10.0)\n",
      "Requirement already satisfied: pyparsing>=2.2.1 in c:\\users\\pc\\appdata\\roaming\\python\\python39\\site-packages (from matplotlib->gradio) (2.4.7)\n",
      "Requirement already satisfied: six>=1.4.0 in c:\\python39\\lib\\site-packages (from python-multipart->gradio) (1.16.0)\n",
      "Requirement already satisfied: urllib3<1.27,>=1.21.1 in c:\\users\\pc\\appdata\\roaming\\python\\python39\\site-packages (from requests->gradio) (1.26.5)\n",
      "Requirement already satisfied: idna<4,>=2.5 in c:\\users\\pc\\appdata\\roaming\\python\\python39\\site-packages (from requests->gradio) (2.10)\n",
      "Requirement already satisfied: click>=7.0 in c:\\python39\\lib\\site-packages (from uvicorn->gradio) (8.1.3)\n",
      "Requirement already satisfied: h11>=0.8 in c:\\python39\\lib\\site-packages (from uvicorn->gradio) (0.14.0)\n",
      "Requirement already satisfied: colorama in c:\\users\\pc\\appdata\\roaming\\python\\python39\\site-packages (from click>=7.0->uvicorn->gradio) (0.4.4)\n",
      "Requirement already satisfied: setuptools in c:\\python39\\lib\\site-packages (from jsonschema>=3.0->altair>=4.2.0->gradio) (57.0.0)\n",
      "Requirement already satisfied: pyrsistent>=0.14.0 in c:\\users\\pc\\appdata\\roaming\\python\\python39\\site-packages (from jsonschema>=3.0->altair>=4.2.0->gradio) (0.17.3)\n",
      "Collecting uc-micro-py\n",
      "  Downloading uc_micro_py-1.0.1-py3-none-any.whl (6.2 kB)\n",
      "Building wheels for collected packages: ffmpy, python-multipart\n",
      "  Building wheel for ffmpy (setup.py): started\n",
      "  Building wheel for ffmpy (setup.py): finished with status 'done'\n",
      "  Created wheel for ffmpy: filename=ffmpy-0.3.0-py3-none-any.whl size=4709 sha256=7f2754e33003520026f53113592d80782b8cebb489de0ebaa68f6b9132a55531\n",
      "  Stored in directory: c:\\users\\pc\\appdata\\local\\pip\\cache\\wheels\\91\\e2\\96\\f676aa08bfd789328c6576cd0f1fde4a3d686703bb0c247697\n",
      "  Building wheel for python-multipart (setup.py): started\n",
      "  Building wheel for python-multipart (setup.py): finished with status 'done'\n",
      "  Created wheel for python-multipart: filename=python_multipart-0.0.5-py3-none-any.whl size=31679 sha256=43d25b55efee0edb0f0d9d2c4a9d97999fc88b0b469447eefa2035d03d621ffc\n",
      "  Stored in directory: c:\\users\\pc\\appdata\\local\\pip\\cache\\wheels\\fe\\04\\d1\\a10661cc45f03c3cecda50deb2d2c22f57b4e84a75b2a5987e\n",
      "Successfully built ffmpy python-multipart\n",
      "Installing collected packages: rfc3986, pydub, ffmpy, websockets, uc-micro-py, toolz, python-multipart, pycryptodome, orjson, multidict, mdurl, fsspec, frozenlist, async-timeout, anyio, yarl, uvicorn, starlette, markdown-it-py, linkify-it-py, httpcore, aiosignal, mdit-py-plugins, httpx, fastapi, altair, aiohttp, gradio\n",
      "  Attempting uninstall: anyio\n",
      "    Found existing installation: anyio 3.1.0\n",
      "    Uninstalling anyio-3.1.0:\n",
      "      Successfully uninstalled anyio-3.1.0\n",
      "Successfully installed aiohttp-3.8.3 aiosignal-1.3.1 altair-4.2.0 anyio-3.6.2 async-timeout-4.0.2 fastapi-0.89.1 ffmpy-0.3.0 frozenlist-1.3.3 fsspec-2022.11.0 gradio-3.16.1 httpcore-0.16.3 httpx-0.23.3 linkify-it-py-1.0.3 markdown-it-py-2.1.0 mdit-py-plugins-0.3.3 mdurl-0.1.2 multidict-6.0.4 orjson-3.8.5 pycryptodome-3.16.0 pydub-0.25.1 python-multipart-0.0.5 rfc3986-1.5.0 starlette-0.22.0 toolz-0.12.0 uc-micro-py-1.0.1 uvicorn-0.20.0 websockets-10.4 yarl-1.8.2\n"
     ]
    }
   ],
   "source": [
    "!pip install gradio\n",
    "from joblib import load"
   ]
  },
  {
   "cell_type": "code",
   "execution_count": 73,
   "id": "5e958a21",
   "metadata": {},
   "outputs": [
    {
     "name": "stdout",
     "output_type": "stream",
     "text": [
      "Running on local URL:  http://127.0.0.1:7861\n",
      "\n",
      "Could not create share link, please check your internet connection.\n"
     ]
    },
    {
     "data": {
      "text/html": [
       "<div><iframe src=\"http://127.0.0.1:7861/\" width=\"100%\" height=\"500\" allow=\"autoplay; camera; microphone; clipboard-read; clipboard-write;\" frameborder=\"0\" allowfullscreen></iframe></div>"
      ],
      "text/plain": [
       "<IPython.core.display.HTML object>"
      ]
     },
     "metadata": {},
     "output_type": "display_data"
    },
    {
     "data": {
      "text/plain": []
     },
     "execution_count": 73,
     "metadata": {},
     "output_type": "execute_result"
    }
   ],
   "source": [
    "import gradio as gr\n",
    "\n",
    "# Load the model\n",
    "model_bayes = load('filename.joblib')\n",
    "\n",
    "# Prediction function\n",
    "def make_prediction(user_sentence):\n",
    "  \n",
    "  prediction = model_bayes.predict([user_sentence])\n",
    "  dict = {0: 'Negative', 1: 'Positive'}\n",
    "  return dict[prediction[0]]\n",
    "\n",
    "title = \"Sentiment Analysis movie Reviews\"\n",
    "description = \"<p style='text-align: center'>Identifier si un commentaire sur un film est negatif ou positif<br/>Entrainer sur .</p>\"\n",
    "examples = [\"The movie was...bad. The actors suck, the camerawork is shabby at best and the scenario is completly non-sensical\", \"This is amazing !\"]\n",
    "\n",
    "app = gr.Interface(fn=make_prediction, title=title, description=description, examples=examples, inputs=gr.TextArea(), outputs=gr.Label(num_top_classes=3))\n",
    "\n",
    "app.launch(share=True)\n"
   ]
  },
  {
   "cell_type": "markdown",
   "id": "6f84dee0",
   "metadata": {},
   "source": [
    "Limits:"
   ]
  },
  {
   "cell_type": "markdown",
   "id": "8744bf41",
   "metadata": {},
   "source": [
    "First, this method has been trained on specificly english data with a rather professional way of writting\n",
    "So, it isn't fit to use on more comptemporary or "
   ]
  }
 ],
 "metadata": {
  "kernelspec": {
   "display_name": "Python 3",
   "language": "python",
   "name": "python3"
  },
  "language_info": {
   "codemirror_mode": {
    "name": "ipython",
    "version": 3
   },
   "file_extension": ".py",
   "mimetype": "text/x-python",
   "name": "python",
   "nbconvert_exporter": "python",
   "pygments_lexer": "ipython3",
   "version": "3.9.5"
  }
 },
 "nbformat": 4,
 "nbformat_minor": 5
}
